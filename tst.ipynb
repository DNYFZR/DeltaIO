{
 "cells": [
  {
   "cell_type": "code",
   "execution_count": 1,
   "metadata": {},
   "outputs": [],
   "source": [
    "import src.delta_duck as dd, duckdb"
   ]
  },
  {
   "cell_type": "code",
   "execution_count": 2,
   "metadata": {},
   "outputs": [
    {
     "name": "stdout",
     "output_type": "stream",
     "text": [
      "0\n",
      "[]\n",
      "[{'timestamp': 1684182251898, 'operation': 'WRITE', 'operationParameters': {'mode': 'ErrorIfExists', 'partitionBy': '[]'}, 'isolationLevel': 'Serializable', 'isBlindAppend': True, 'engineInfo': 'Apache-Spark/3.2.2 Delta-Lake/2.0.1', 'operationMetrics': {'numFiles': '8', 'numOutputBytes': '868369134', 'numOutputRows': '128000000'}, 'txnId': '84a70ba7-c147-445d-9204-f630e7f82fb0'}]\n",
      "1\n"
     ]
    }
   ],
   "source": [
    "### Delta\n",
    "table = dd.getDeltaTable(table_path=\"data/data.delta\")\n",
    "print(table.version())\n",
    "\n",
    "print(table.vacuum(1, dry_run=False, enforce_retention_duration=False))\n",
    "print(table.history())\n",
    "\n",
    "dd.postDeltaTable(table=table, path=\"data/data.delta\", mode=\"overwrite\", overwrite_schema=True)\n",
    "\n",
    "table = dd.getDeltaTable(table_path=\"data/data.delta\")\n",
    "print(table.version())\n"
   ]
  },
  {
   "cell_type": "code",
   "execution_count": 3,
   "metadata": {},
   "outputs": [
    {
     "name": "stdout",
     "output_type": "stream",
     "text": [
      "shape: (9, 7)\n",
      "┌────────────┬───────────────┬─────────────────┬───────────┬───────────┬───────────┬─────────────┐\n",
      "│ describe   ┆ _c0           ┆ model_iteration ┆ model     ┆ id        ┆ state     ┆ converter   │\n",
      "│ ---        ┆ ---           ┆ ---             ┆ ---       ┆ ---       ┆ ---       ┆ ---         │\n",
      "│ str        ┆ f64           ┆ f64             ┆ str       ┆ str       ┆ f64       ┆ f64         │\n",
      "╞════════════╪═══════════════╪═════════════════╪═══════════╪═══════════╪═══════════╪═════════════╡\n",
      "│ count      ┆ 1.28e8        ┆ 1.28e8          ┆ 128000000 ┆ 128000000 ┆ 1.28e8    ┆ 1.28e8      │\n",
      "│ null_count ┆ 0.0           ┆ 0.0             ┆ 0         ┆ 0         ┆ 0.0       ┆ 0.0         │\n",
      "│ mean       ┆ 499999.5      ┆ 500.5           ┆ null      ┆ null      ┆ 44.128    ┆ 5024.0      │\n",
      "│ std        ┆ 288675.135724 ┆ 288.674991      ┆ null      ┆ null      ┆ 32.188191 ┆ 3288.073005 │\n",
      "│ min        ┆ 0.0           ┆ 1.0             ┆ default   ┆ a         ┆ 0.0       ┆ 1000.0      │\n",
      "│ max        ┆ 9.99999e5     ┆ 1000.0          ┆ general   ┆ j         ┆ 96.0      ┆ 12000.0     │\n",
      "│ median     ┆ 499999.5      ┆ 500.5           ┆ null      ┆ null      ┆ 55.0      ┆ 4000.0      │\n",
      "│ 25%        ┆ 250000.0      ┆ 251.0           ┆ null      ┆ null      ┆ 12.0      ┆ 2000.0      │\n",
      "│ 75%        ┆ 750000.0      ┆ 751.0           ┆ null      ┆ null      ┆ 75.0      ┆ 8000.0      │\n",
      "└────────────┴───────────────┴─────────────────┴───────────┴───────────┴───────────┴─────────────┘\n",
      "2\n"
     ]
    }
   ],
   "source": [
    "### Polars\n",
    "polar = dd.polarFromDelta(table)\n",
    "print(polar.describe())\n",
    "\n",
    "unpolar = dd.polarToDelta(polar, mode=\"overwrite\", overwrite_schema=True)\n",
    "print(unpolar.version())"
   ]
  },
  {
   "cell_type": "code",
   "execution_count": 4,
   "metadata": {},
   "outputs": [
    {
     "ename": "",
     "evalue": "",
     "output_type": "error",
     "traceback": [
      "\u001b[1;31mCanceled future for execute_request message before replies were done"
     ]
    },
    {
     "ename": "",
     "evalue": "",
     "output_type": "error",
     "traceback": [
      "\u001b[1;31mThe Kernel crashed while executing code in the the current cell or a previous cell. Please review the code in the cell(s) to identify a possible cause of the failure. Click <a href='https://aka.ms/vscodeJupyterKernelCrash'>here</a> for more info. View Jupyter <a href='command:jupyter.viewOutput'>log</a> for further details."
     ]
    }
   ],
   "source": [
    "### DuckDB\n",
    "DB = duckdb.connect(\"data/database.duckdb\")\n",
    "\n",
    "duck = dd.duckFromDelta(table=\"tst\", source=table, DB=DB)\n",
    "print(DB.execute(\"DESCRIBE;\"))\n",
    "\n",
    "unduck = dd.duckToDelta(\n",
    "    table=\"tst\", \n",
    "    source=DB, \n",
    "    path=\"data/data.delta\",\n",
    "    mode=\"overwrite\", \n",
    "    overwrite_schema=True)\n",
    "print(unduck.version())"
   ]
  }
 ],
 "metadata": {
  "kernelspec": {
   "display_name": ".venv",
   "language": "python",
   "name": "python3"
  },
  "language_info": {
   "codemirror_mode": {
    "name": "ipython",
    "version": 3
   },
   "file_extension": ".py",
   "mimetype": "text/x-python",
   "name": "python",
   "nbconvert_exporter": "python",
   "pygments_lexer": "ipython3",
   "version": "3.10.8"
  },
  "orig_nbformat": 4
 },
 "nbformat": 4,
 "nbformat_minor": 2
}
